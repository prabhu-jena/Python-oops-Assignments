{
 "cells": [
  {
   "cell_type": "code",
   "execution_count": null,
   "metadata": {},
   "outputs": [],
   "source": [
    "Case study problem"
   ]
  },
  {
   "cell_type": "code",
   "execution_count": 1,
   "metadata": {},
   "outputs": [],
   "source": [
    "#Create a class names Employee, with a constructor ‘__init__’ method that accepts name and\n",
    "#salary as parameters and set properties named name and salary."
   ]
  },
  {
   "cell_type": "code",
   "execution_count": 17,
   "metadata": {},
   "outputs": [
    {
     "name": "stdout",
     "output_type": "stream",
     "text": [
      "Bob\n"
     ]
    }
   ],
   "source": [
    "class Employee:\n",
    "    def __init__(self, name):\n",
    "        self.name=name\n",
    "    def say_hi(self):\n",
    "        print(self.name)\n",
    "a=Employee(\"Bob\")\n",
    "a.say_hi()\n",
    "    "
   ]
  },
  {
   "cell_type": "code",
   "execution_count": 31,
   "metadata": {},
   "outputs": [
    {
     "name": "stdout",
     "output_type": "stream",
     "text": [
      "Bob\n",
      "2000\n"
     ]
    }
   ],
   "source": [
    "class Employee:\n",
    "    def __init__(self, name):\n",
    "        self.name=name\n",
    "        \n",
    "    def say_hi(self):\n",
    "    \n",
    "        print(self.name)\n",
    "class Employeesalary(Employee):\n",
    "    pass\n",
    "a=Employee(\"Bob\")\n",
    "a1=Employeesalary(2000)\n",
    "a.say_hi()\n",
    "a1.say_hi()  "
   ]
  },
  {
   "cell_type": "code",
   "execution_count": 36,
   "metadata": {},
   "outputs": [
    {
     "name": "stdout",
     "output_type": "stream",
     "text": [
      "Bob\n",
      "salary is 2000\n"
     ]
    }
   ],
   "source": [
    "class Employee:\n",
    "    def __init__(self, name):\n",
    "        self.name=name\n",
    "        \n",
    "    def say_hi(self):\n",
    "    \n",
    "        print(self.name)\n",
    "class Employeesalary(Employee):\n",
    "    def __init__(self,salary):\n",
    "        self.salary=salary\n",
    "    def say_hi(self):\n",
    "        print(\"salary is\",self.salary)\n",
    "        pass\n",
    "a=Employee(\"Bob\")\n",
    "a1=Employeesalary(2000)\n",
    "a.say_hi()\n",
    "a1.say_hi()  "
   ]
  },
  {
   "cell_type": "code",
   "execution_count": null,
   "metadata": {},
   "outputs": [],
   "source": [
    "# Define __str__ method in Employee class so that when someone tries to print the object the\n",
    "#string Name: employee_name, Salary: employee_salary is printed with the actual employee\n",
    "#name and salary."
   ]
  },
  {
   "cell_type": "code",
   "execution_count": 46,
   "metadata": {},
   "outputs": [
    {
     "name": "stdout",
     "output_type": "stream",
     "text": [
      "Person name is Pankaj and salary is 30000\n",
      "Person(name=Pankaj, salary=30000)\n"
     ]
    }
   ],
   "source": [
    "class Employee:\n",
    "\n",
    "    def __init__(self, person_name, person_salary):\n",
    "        self.name = person_name\n",
    "        self.salary = person_salary\n",
    "\n",
    "    def __str__(self):\n",
    "        return f'Person name is {self.name} and salary is {self.salary}'\n",
    "\n",
    "    def __repr__(self):\n",
    "        return f'Person(name={self.name}, salary={self.salary})'\n",
    "\n",
    "\n",
    "p = Employee('Pankaj', 30000)\n",
    "\n",
    "print(p.__str__())\n",
    "print(p.__repr__())"
   ]
  },
  {
   "cell_type": "markdown",
   "metadata": {},
   "source": [
    " From above, F-strings provide a concise and convenient way to embed python expressions inside string literals for formatting. "
   ]
  },
  {
   "cell_type": "code",
   "execution_count": null,
   "metadata": {},
   "outputs": [],
   "source": [
    "#Create another class named Calculator, with methods to add, subtract, multiply and divide two numbers."
   ]
  },
  {
   "cell_type": "code",
   "execution_count": 51,
   "metadata": {},
   "outputs": [
    {
     "name": "stdout",
     "output_type": "stream",
     "text": [
      "2 15\n"
     ]
    }
   ],
   "source": [
    "class Calculator:\n",
    "    def add(self,x,y):return x+y\n",
    "    def sub(self,x,y):return x-y\n",
    "    def mul(self,x,y):return x*y\n",
    "    def div(self,x,y):return x/y\n",
    "    \n",
    "    \n",
    "    def excute_command(self,ops,p,q):\n",
    "        if ops.lower()==\"add\": return self.add(p,q)\n",
    "        if ops.lower()==\"sub\": return self.sub(p,q)\n",
    "        if ops.lower()==\"mul\": return self.mul(p,q)\n",
    "        if ops.lower()==\"div\": return sef.div(p,q)\n",
    "obj1=Calculator()\n",
    "a=obj1.excute_command(\"sub\",4,2)\n",
    "b=obj1.excute_command(\"mul\",5,3)\n",
    "print(a,b)\n"
   ]
  },
  {
   "cell_type": "code",
   "execution_count": 25,
   "metadata": {},
   "outputs": [],
   "source": [
    "# Assignment - 1 (Exception Handelling)"
   ]
  },
  {
   "cell_type": "code",
   "execution_count": null,
   "metadata": {},
   "outputs": [],
   "source": [
    "# With the help of try and inbuilt exception, display the exception."
   ]
  },
  {
   "cell_type": "markdown",
   "metadata": {},
   "source": [
    "Exceptions are raised when the program is syntactically correct, but the code resulted in an error. This error does not stop the execution of the program, however, it changes the normal flow of the program."
   ]
  },
  {
   "cell_type": "markdown",
   "metadata": {},
   "source": [
    "Try and except statements are used to catch and handle exceptions in Python. Statements that can raise exceptions are kept inside the try clause and the statements that handle the exception are written inside except clause."
   ]
  },
  {
   "cell_type": "code",
   "execution_count": 2,
   "metadata": {},
   "outputs": [
    {
     "name": "stdout",
     "output_type": "stream",
     "text": [
      "Enter num 1\n",
      "4\n",
      "Enter num 2\n",
      "g\n",
      "invalid literal for int() with base 10: 'g'\n",
      "Number+variable\n"
     ]
    }
   ],
   "source": [
    "print(\"Enter num 1\")\n",
    "num1 = input()\n",
    "print(\"Enter num 2\")\n",
    "num2 = input()\n",
    "try:\n",
    "    print(\"The sum of these two numbers is\",\n",
    "          int(num1)+int(num2))\n",
    "except Exception as e:\n",
    "    print(e)\n",
    "    print(\"Number+variable\")"
   ]
  },
  {
   "cell_type": "code",
   "execution_count": 3,
   "metadata": {},
   "outputs": [],
   "source": [
    "# Take two user inputs and pass those input variables in a try block. If the user input is 0, then throw the ZeroDivisionError exception.\n"
   ]
  },
  {
   "cell_type": "code",
   "execution_count": 4,
   "metadata": {},
   "outputs": [
    {
     "name": "stdout",
     "output_type": "stream",
     "text": [
      "You have divided a number by zero, which is not allowed.\n"
     ]
    }
   ],
   "source": [
    "try:\n",
    "    a = 10\n",
    "    b = 0\n",
    "    print(\"Result of Division: \" + str(a/b))\n",
    "except:\n",
    "    print(\"You have divided a number by zero, which is not allowed.\")"
   ]
  },
  {
   "cell_type": "code",
   "execution_count": 6,
   "metadata": {},
   "outputs": [
    {
     "name": "stdout",
     "output_type": "stream",
     "text": [
      "Enter numerator number: 5\n",
      "Enter denominator number: 0\n",
      "You have divided a number by zero, which is not allowed.\n"
     ]
    }
   ],
   "source": [
    "try:\n",
    "    a = int(input(\"Enter numerator number: \"))\n",
    "    b = int(input(\"Enter denominator number: \"))\n",
    "    print(\"Result of Division: \" + str(a/b))\n",
    "# except block handling division by zero\n",
    "except(ZeroDivisionError):\n",
    "    print(\"You have divided a number by zero, which is not allowed.\")\n",
    "# except block handling wrong value type\n",
    "except(ValueError):\n",
    "    print(\"You must enter integer value\")\n"
   ]
  },
  {
   "cell_type": "code",
   "execution_count": 7,
   "metadata": {},
   "outputs": [
    {
     "name": "stdout",
     "output_type": "stream",
     "text": [
      "Enter numerator number: 5\n",
      "Enter denominator number: 0\n",
      "Please check the input value: It should be an integer greater than 0\n"
     ]
    }
   ],
   "source": [
    "# try block\n",
    "try:\n",
    "    a = int(input(\"Enter numerator number: \"))\n",
    "    b = int(input(\"Enter denominator number: \"))\n",
    "    print(\"Result of Division: \" + str(a/b))\n",
    "# except block handling division by zero\n",
    "except(ValueError, ZeroDivisionError):\n",
    "    print(\"Please check the input value: It should be an integer greater than 0\")"
   ]
  },
  {
   "cell_type": "code",
   "execution_count": null,
   "metadata": {},
   "outputs": [],
   "source": [
    "#Import math package and with the help of math package, print – math.exp(50000). Now use the inbuilt OverflowError exception on the math.exp(), and print the exception."
   ]
  },
  {
   "cell_type": "code",
   "execution_count": 9,
   "metadata": {},
   "outputs": [
    {
     "name": "stdout",
     "output_type": "stream",
     "text": [
      "inf\n"
     ]
    }
   ],
   "source": [
    "import math\n",
    "try:\n",
    "    answer=math.exp(50000)\n",
    "except (OverflowError):\n",
    "    answer = float('inf')\n",
    "print(answer)"
   ]
  },
  {
   "cell_type": "code",
   "execution_count": 10,
   "metadata": {},
   "outputs": [],
   "source": [
    "# 5. Create your own exception with the help of class and functions."
   ]
  },
  {
   "cell_type": "code",
   "execution_count": 14,
   "metadata": {},
   "outputs": [
    {
     "name": "stdout",
     "output_type": "stream",
     "text": [
      "A New Exception occured:  15\n"
     ]
    }
   ],
   "source": [
    "# class MyError is derived from super class Exception\n",
    "class MyError(Exception):\n",
    " \n",
    "    # Constructor or Initializer\n",
    "    def __init__(self, value):\n",
    "        self.value = value\n",
    " \n",
    "    # __str__ is to print() the value\n",
    "    def __str__(self):\n",
    "        return(repr(self.value))\n",
    " \n",
    "try:\n",
    "    raise(MyError(5*3))\n",
    " \n",
    "# Value of Exception is stored in error\n",
    "except MyError as error:\n",
    "    print('A New Exception occured: ',error.value)"
   ]
  },
  {
   "cell_type": "code",
   "execution_count": 23,
   "metadata": {},
   "outputs": [],
   "source": [
    "# 4. Now install the ‘termcolor’ package in the anaconda prompt, and import that package to provide the colors to the print statement in Jupyter Notebook."
   ]
  },
  {
   "cell_type": "code",
   "execution_count": 21,
   "metadata": {},
   "outputs": [
    {
     "name": "stdout",
     "output_type": "stream",
     "text": [
      "Requirement already satisfied: termcolor in c:\\users\\hp\\anaconda3\\lib\\site-packages (1.1.0)\n"
     ]
    }
   ],
   "source": [
    "!pip install termcolor"
   ]
  },
  {
   "cell_type": "code",
   "execution_count": 22,
   "metadata": {},
   "outputs": [
    {
     "name": "stdout",
     "output_type": "stream",
     "text": [
      "\u001b[5m\u001b[7m\u001b[31mHello, World!\u001b[0m\n",
      "\u001b[41m\u001b[32mHello, World!\u001b[0m\n",
      "\u001b[46m\u001b[31mHello, World!\u001b[0m\n",
      "\u001b[46m\u001b[31mHello, Universe!\u001b[0m\n",
      "\u001b[35m0\u001b[0m \u001b[35m1\u001b[0m \u001b[35m2\u001b[0m \u001b[35m3\u001b[0m \u001b[35m4\u001b[0m \u001b[35m5\u001b[0m \u001b[35m6\u001b[0m \u001b[35m7\u001b[0m \u001b[35m8\u001b[0m \u001b[35m9\u001b[0m "
     ]
    },
    {
     "name": "stderr",
     "output_type": "stream",
     "text": [
      "\u001b[1m\u001b[31mAttention!\u001b[0m\n"
     ]
    }
   ],
   "source": [
    "\n",
    "import sys\n",
    "from termcolor import colored, cprint\n",
    "\n",
    "text = colored('Hello, World!', 'red', attrs=['reverse', 'blink'])\n",
    "print(text)\n",
    "cprint('Hello, World!', 'green', 'on_red')\n",
    "\n",
    "print_red_on_cyan = lambda x: cprint(x, 'red', 'on_cyan')\n",
    "print_red_on_cyan('Hello, World!')\n",
    "print_red_on_cyan('Hello, Universe!')\n",
    "\n",
    "for i in range(10):\n",
    "    cprint(i, 'magenta', end=' ')\n",
    "\n",
    "cprint(\"Attention!\", 'red', attrs=['bold'], file=sys.stderr)\n"
   ]
  },
  {
   "cell_type": "code",
   "execution_count": null,
   "metadata": {},
   "outputs": [],
   "source": [
    "################"
   ]
  },
  {
   "cell_type": "code",
   "execution_count": null,
   "metadata": {},
   "outputs": [],
   "source": [
    "#############"
   ]
  },
  {
   "cell_type": "markdown",
   "metadata": {},
   "source": [
    " Assignment-2 (Functions and Class)"
   ]
  },
  {
   "cell_type": "code",
   "execution_count": 28,
   "metadata": {},
   "outputs": [],
   "source": [
    "#Create a function named ‘factor’ that can only accepts 1 argument. The function should return the factorial of that number.\n"
   ]
  },
  {
   "cell_type": "code",
   "execution_count": 1,
   "metadata": {},
   "outputs": [
    {
     "name": "stdout",
     "output_type": "stream",
     "text": [
      "Input a number to compute the factiorial : 17\n",
      "355687428096000\n"
     ]
    }
   ],
   "source": [
    "def factor(n):\n",
    "    if n == 0:\n",
    "        return 1\n",
    "    else:\n",
    "        return n * factor(n-1)\n",
    "n=int(input(\"Input a number to compute the factiorial : \"))\n",
    "print(factor(n))"
   ]
  },
  {
   "cell_type": "code",
   "execution_count": 30,
   "metadata": {},
   "outputs": [],
   "source": [
    "# Create a function named ‘check_string’, the function should accept a string data from the\n",
    "# user and the function should check if the user input contains the letter ‘s’ in it. If it contains\n",
    "# the letter ‘s’ then print- ‘The string is containing the letter ‘s’’, if not then print- ‘The string\n",
    "# doesn’t contain the letter ‘s’’."
   ]
  },
  {
   "cell_type": "code",
   "execution_count": 2,
   "metadata": {},
   "outputs": [
    {
     "name": "stdout",
     "output_type": "stream",
     "text": [
      "input a word :student\n",
      "‘The string is containing the letter ‘s’''\n",
      "None\n"
     ]
    }
   ],
   "source": [
    "def check_string(test_string):\n",
    "    if \"s\" in test_string:\n",
    "        print(\"‘The string is containing the letter ‘s’''\")\n",
    "    else:\n",
    "        print(\"‘The string doesn’t contain the letter ‘s’''\")\n",
    "test_string=str(input(\"input a word :\"))\n",
    "print(check_string(test_string))"
   ]
  },
  {
   "cell_type": "code",
   "execution_count": 1,
   "metadata": {},
   "outputs": [],
   "source": [
    "# Create a class named ‘student’ and inside the class, create a function named ‘fun1’- this method should accepts the user defined input and return that value.\n",
    "# method should accepts the user defined input and return that value."
   ]
  },
  {
   "cell_type": "code",
   "execution_count": 48,
   "metadata": {},
   "outputs": [
    {
     "name": "stdout",
     "output_type": "stream",
     "text": [
      "Ray\n"
     ]
    }
   ],
   "source": [
    "class student:\n",
    "    def __init__(self,name):\n",
    "\n",
    "        self.name= name\n",
    "\n",
    "    def fun1(self):\n",
    "\n",
    "\n",
    "        print(self.name)\n",
    "\n",
    "name_student=student(\"Ray\")\n",
    "\n",
    "name_student.fun1()\n",
    "\n",
    "\n",
    "    \n",
    "    \n",
    "\n",
    "    "
   ]
  },
  {
   "cell_type": "code",
   "execution_count": null,
   "metadata": {},
   "outputs": [],
   "source": [
    "#Create another method named- message() and that method should print the user defined input that we have defined in ‘fun1’.\n"
   ]
  },
  {
   "cell_type": "code",
   "execution_count": 1,
   "metadata": {},
   "outputs": [
    {
     "name": "stdout",
     "output_type": "stream",
     "text": [
      "Ray\n"
     ]
    }
   ],
   "source": [
    "class student:\n",
    "    def __init__(self,name):\n",
    "        self.name= name\n",
    "    def message(self):\n",
    "        print(self.name)\n",
    "\n",
    "name_student=student(\"Ray\")\n",
    "\n",
    "name_student.message()"
   ]
  },
  {
   "cell_type": "code",
   "execution_count": null,
   "metadata": {},
   "outputs": [],
   "source": []
  },
  {
   "cell_type": "code",
   "execution_count": null,
   "metadata": {},
   "outputs": [],
   "source": [
    "# Create a lambda function that should double or multiply the number (that we will be passing in the lambda function) by 2. Store the lambda function in a variable named ‘double_num’."
   ]
  },
  {
   "cell_type": "code",
   "execution_count": 36,
   "metadata": {},
   "outputs": [
    {
     "name": "stdout",
     "output_type": "stream",
     "text": [
      "25\n"
     ]
    }
   ],
   "source": [
    "def testfunc():\n",
    "  return lambda x : x * x\n",
    "\n",
    "double_num = testfunc()\n",
    "\n",
    "print(double_num(5))"
   ]
  },
  {
   "cell_type": "code",
   "execution_count": null,
   "metadata": {},
   "outputs": [],
   "source": [
    "#Take user input string and check whether that string is palindrome or not."
   ]
  },
  {
   "cell_type": "code",
   "execution_count": 37,
   "metadata": {},
   "outputs": [
    {
     "name": "stdout",
     "output_type": "stream",
     "text": [
      "Yes\n"
     ]
    }
   ],
   "source": [
    "# function which return reverse of a string\n",
    " \n",
    "def isPalindrome(s):\n",
    "    return s == s[::-1]\n",
    " \n",
    " \n",
    "# Driver code\n",
    "s = \"malayalam\"\n",
    "ans = isPalindrome(s)\n",
    " \n",
    "if ans:\n",
    "    print(\"Yes\")\n",
    "else:\n",
    "    print(\"No\")"
   ]
  },
  {
   "cell_type": "code",
   "execution_count": null,
   "metadata": {},
   "outputs": [],
   "source": []
  }
 ],
 "metadata": {
  "kernelspec": {
   "display_name": "Python 3",
   "language": "python",
   "name": "python3"
  },
  "language_info": {
   "codemirror_mode": {
    "name": "ipython",
    "version": 3
   },
   "file_extension": ".py",
   "mimetype": "text/x-python",
   "name": "python",
   "nbconvert_exporter": "python",
   "pygments_lexer": "ipython3",
   "version": "3.7.6"
  }
 },
 "nbformat": 4,
 "nbformat_minor": 4
}
